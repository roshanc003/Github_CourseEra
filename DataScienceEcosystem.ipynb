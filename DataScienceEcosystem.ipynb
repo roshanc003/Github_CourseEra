{
  "nbformat": 4,
  "nbformat_minor": 0,
  "metadata": {
    "colab": {
      "provenance": [],
      "authorship_tag": "ABX9TyMKrhR4ubH2imlt18hZDKl7",
      "include_colab_link": true
    },
    "kernelspec": {
      "name": "python3",
      "display_name": "Python 3"
    },
    "language_info": {
      "name": "python"
    }
  },
  "cells": [
    {
      "cell_type": "markdown",
      "metadata": {
        "id": "view-in-github",
        "colab_type": "text"
      },
      "source": [
        "<a href=\"https://colab.research.google.com/github/roshanc003/Github_CourseEra/blob/main/DataScienceEcosystem.ipynb\" target=\"_parent\"><img src=\"https://colab.research.google.com/assets/colab-badge.svg\" alt=\"Open In Colab\"/></a>"
      ]
    },
    {
      "cell_type": "code",
      "execution_count": null,
      "metadata": {
        "id": "jV96-K8bhQvA"
      },
      "outputs": [],
      "source": [
        "# Data Science Tools and Ecosystem"
      ]
    },
    {
      "cell_type": "code",
      "source": [
        "#In this notebook, Data Science Tools and Ecosystem are summarized.\n"
      ],
      "metadata": {
        "id": "rA1IqkcVhiOm"
      },
      "execution_count": 2,
      "outputs": []
    },
    {
      "cell_type": "markdown",
      "source": [],
      "metadata": {
        "id": "JLojo-l38g2_"
      }
    },
    {
      "cell_type": "code",
      "source": [
        "#Some of the popular languages that Data Scientists use are:\n",
        "\n",
        "#1. Python\n",
        "#2. R\n",
        "#3. SQL\n",
        "#4. Julia\n",
        "#5. Scala\n",
        "\n"
      ],
      "metadata": {
        "id": "ylfDJmcI-HLR"
      },
      "execution_count": 4,
      "outputs": []
    },
    {
      "cell_type": "code",
      "source": [
        "languages = [\n",
        "    'Python',\n",
        "    'R',\n",
        "    'SQL',\n",
        "    'Julia',\n",
        "    'Scala'\n",
        "]"
      ],
      "metadata": {
        "id": "YX6xigoF-IUn"
      },
      "execution_count": 5,
      "outputs": []
    },
    {
      "cell_type": "code",
      "source": [
        "import nbformat as nbf\n",
        "\n",
        "try:\n",
        "    with open('DataScienceEcosystem.ipynb') as f:\n",
        "        nb = nbf.read(f, as_version=4)\n",
        "except FileNotFoundError:\n",
        "    nb = nbf.v4.new_notebook()\n",
        "\n",
        "\n",
        "libraries = [\n",
        "    'Pandas',\n",
        "    'NumPy',\n",
        "    'Matplotlib',\n",
        "    'Scikit-learn',\n",
        "    'TensorFlow',\n",
        "    'Keras'\n",
        "]\n",
        "\n",
        "libraries_markdown = 'Some of the commonly used libraries used by Data Scientists include:\\n\\n'\n",
        "libraries_markdown += '\\n'.join(f'{i+1}. {library}' for i, library in enumerate(libraries))\n",
        "libraries_cell = nbf.v4.new_markdown_cell(libraries_markdown)\n",
        "\n",
        "\n",
        "nb.cells.append(libraries_cell)\n",
        "\n",
        "with open('DataScienceEcosystem.ipynb', 'w') as f:\n",
        "    nbf.write(nb, f)\n"
      ],
      "metadata": {
        "id": "QpG6Rx39_Dvt"
      },
      "execution_count": 7,
      "outputs": []
    },
    {
      "cell_type": "code",
      "source": [
        "import nbformat as nbf\n",
        "\n",
        "# Load the existing notebook or create a new one\n",
        "try:\n",
        "    with open('DataScienceEcosystem.ipynb') as f:\n",
        "        nb = nbf.read(f, as_version=4)\n",
        "except FileNotFoundError:\n",
        "    nb = nbf.v4.new_notebook()\n",
        "\n",
        "# Create a markdown cell with the table of Data Science tools\n",
        "tools_markdown = '''| Data Science Tools      |\n",
        "|-------------------------|\n",
        "| Jupyter Notebook         |\n",
        "| RStudio                  |\n",
        "| Apache Zeppelin          |\n",
        "'''\n",
        "\n",
        "tools_cell = nbf.v4.new_markdown_cell(tools_markdown)\n",
        "\n",
        "# Add the markdown cell to the notebook\n",
        "nb.cells.append(tools_cell)\n",
        "\n",
        "# Write the notebook to a file\n",
        "with open('DataScienceEcosystem.ipynb', 'w') as f:\n",
        "    nbf.write(nb, f)\n"
      ],
      "metadata": {
        "id": "KvQDoPg6B7Ow"
      },
      "execution_count": 8,
      "outputs": []
    },
    {
      "cell_type": "code",
      "source": [
        "# Function to evaluate an arithmetic expression\n",
        "def evaluate_expression(expression):\n",
        "    try:\n",
        "        result = eval(expression)\n",
        "        return result\n",
        "    except Exception as e:\n",
        "        return f\"Error: {e}\"\n",
        "\n",
        "# Example usage\n",
        "expression = \"5 + 3 * (2 - 1) / 2 ** 2\"\n",
        "result = evaluate_expression(expression)\n",
        "print(f\"The result of the expression '{expression}' is: {result}\")\n"
      ],
      "metadata": {
        "colab": {
          "base_uri": "https://localhost:8080/"
        },
        "id": "tt9GKmatC5x9",
        "outputId": "68db7145-936c-4fe8-ffa7-6d63a5cf1016"
      },
      "execution_count": 9,
      "outputs": [
        {
          "output_type": "stream",
          "name": "stdout",
          "text": [
            "The result of the expression '5 + 3 * (2 - 1) / 2 ** 2' is: 5.75\n"
          ]
        }
      ]
    },
    {
      "cell_type": "code",
      "source": [
        "import nbformat as nbf\n",
        "\n",
        "# Create a new notebook\n",
        "nb = nbf.v4.new_notebook()\n",
        "\n",
        "# Code cell for multiplying and adding numbers\n",
        "code = 'result = (3 * 4) + 5\\nresult'\n",
        "code_cell = nbf.v4.new_code_cell(code)\n",
        "\n",
        "# Add the cell to the notebook\n",
        "nb.cells.append(code_cell)\n",
        "\n",
        "# Write the notebook to a file\n",
        "with open('MultiplyAddExample.ipynb', 'w') as f:\n",
        "    nbf.write(nb, f)\n"
      ],
      "metadata": {
        "id": "o-qh-uAsEN1y"
      },
      "execution_count": 10,
      "outputs": []
    },
    {
      "cell_type": "code",
      "source": [
        "import nbformat as nbf\n",
        "\n",
        "# Create a new notebook\n",
        "nb = nbf.v4.new_notebook()\n",
        "\n",
        "# Code cell for converting minutes to hours\n",
        "code = '''\n",
        "# Function to convert minutes to hours\n",
        "def minutes_to_hours(minutes):\n",
        "    hours = minutes / 60\n",
        "    return hours\n",
        "\n",
        "# Example usage\n",
        "minutes = 150\n",
        "hours = minutes_to_hours(minutes)\n",
        "hours\n",
        "'''\n",
        "code_cell = nbf.v4.new_code_cell(code)\n",
        "\n",
        "# Add the cell to the notebook\n",
        "nb.cells.append(code_cell)\n",
        "\n",
        "# Write the notebook to a file\n",
        "with open('MinutesToHoursExample.ipynb', 'w') as f:\n",
        "    nbf.write(nb, f)\n"
      ],
      "metadata": {
        "id": "rrfFKm9hFFjb"
      },
      "execution_count": 11,
      "outputs": []
    },
    {
      "cell_type": "code",
      "source": [
        "# Define an unordered list of programming languages\n",
        "unordered_list = ['Python', 'R', 'SQL', 'Julia', 'Scala']\n",
        "\n",
        "# Print the original list\n",
        "print(\"Original List:\")\n",
        "print(unordered_list)\n",
        "\n",
        "# Add a new language\n",
        "unordered_list.append('Java')\n",
        "\n",
        "# Insert a language at a specific position\n",
        "unordered_list.insert(2, 'MATLAB')\n",
        "\n",
        "# Remove a language\n",
        "unordered_list.remove('R')\n",
        "\n",
        "# Print the updated list\n",
        "print(\"\\nUpdated List:\")\n",
        "print(unordered_list)\n",
        "\n",
        "# Iterate and print each language\n",
        "print(\"\\nList of Languages:\")\n",
        "for language in unordered_list:\n",
        "    print(language)\n"
      ],
      "metadata": {
        "colab": {
          "base_uri": "https://localhost:8080/"
        },
        "id": "-DCXdm4DFoWo",
        "outputId": "94f63359-2187-4992-ea24-a772bad763a0"
      },
      "execution_count": 12,
      "outputs": [
        {
          "output_type": "stream",
          "name": "stdout",
          "text": [
            "Original List:\n",
            "['Python', 'R', 'SQL', 'Julia', 'Scala']\n",
            "\n",
            "Updated List:\n",
            "['Python', 'MATLAB', 'SQL', 'Julia', 'Scala', 'Java']\n",
            "\n",
            "List of Languages:\n",
            "Python\n",
            "MATLAB\n",
            "SQL\n",
            "Julia\n",
            "Scala\n",
            "Java\n"
          ]
        }
      ]
    },
    {
      "cell_type": "code",
      "source": [
        "# Print the user's name\n",
        "def print_name():\n",
        "    name = \"Roshan C\"\n",
        "    print(f\"My name is {name}\")\n",
        "\n",
        "# Call the function to display the name\n",
        "print_name()\n"
      ],
      "metadata": {
        "colab": {
          "base_uri": "https://localhost:8080/"
        },
        "id": "genN2hLHHsN1",
        "outputId": "6d3e8f00-bc24-45cd-f853-ea28b6471585"
      },
      "execution_count": 13,
      "outputs": [
        {
          "output_type": "stream",
          "name": "stdout",
          "text": [
            "My name is Roshan C\n"
          ]
        }
      ]
    },
    {
      "cell_type": "code",
      "source": [],
      "metadata": {
        "id": "JAQFB30MKTgZ"
      },
      "execution_count": null,
      "outputs": []
    }
  ]
}