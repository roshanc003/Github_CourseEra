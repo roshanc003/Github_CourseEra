{
  "nbformat": 4,
  "nbformat_minor": 0,
  "metadata": {
    "colab": {
      "provenance": [],
      "authorship_tag": "ABX9TyNxh0OdttQ+//DbRl4YHSDQ",
      "include_colab_link": true
    },
    "kernelspec": {
      "name": "python3",
      "display_name": "Python 3"
    },
    "language_info": {
      "name": "python"
    }
  },
  "cells": [
    {
      "cell_type": "markdown",
      "metadata": {
        "id": "view-in-github",
        "colab_type": "text"
      },
      "source": [
        "<a href=\"https://colab.research.google.com/github/roshanc003/Github_CourseEra/blob/main/DataScienceEcosystem.ipynb\" target=\"_parent\"><img src=\"https://colab.research.google.com/assets/colab-badge.svg\" alt=\"Open In Colab\"/></a>"
      ]
    },
    {
      "cell_type": "code",
      "execution_count": null,
      "metadata": {
        "id": "jV96-K8bhQvA"
      },
      "outputs": [],
      "source": [
        "# Data Science Tools and Ecosystem"
      ]
    },
    {
      "cell_type": "code",
      "source": [
        "#In this notebook, Data Science Tools and Ecosystem are summarized.\n"
      ],
      "metadata": {
        "id": "rA1IqkcVhiOm"
      },
      "execution_count": 2,
      "outputs": []
    },
    {
      "cell_type": "markdown",
      "source": [],
      "metadata": {
        "id": "JLojo-l38g2_"
      }
    },
    {
      "cell_type": "code",
      "source": [
        "#Some of the popular languages that Data Scientists use are:\n",
        "\n",
        "#1. Python\n",
        "#2. R\n",
        "#3. SQL\n",
        "#4. Julia\n",
        "#5. Scala\n",
        "\n"
      ],
      "metadata": {
        "id": "ylfDJmcI-HLR"
      },
      "execution_count": 4,
      "outputs": []
    },
    {
      "cell_type": "code",
      "source": [
        "languages = [\n",
        "    'Python',\n",
        "    'R',\n",
        "    'SQL',\n",
        "    'Julia',\n",
        "    'Scala'\n",
        "]"
      ],
      "metadata": {
        "id": "YX6xigoF-IUn"
      },
      "execution_count": 5,
      "outputs": []
    },
    {
      "cell_type": "code",
      "source": [],
      "metadata": {
        "id": "QpG6Rx39_Dvt"
      },
      "execution_count": null,
      "outputs": []
    }
  ]
}